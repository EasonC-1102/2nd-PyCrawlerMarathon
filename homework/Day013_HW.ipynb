{
 "cells": [
  {
   "cell_type": "code",
   "execution_count": 1,
   "metadata": {},
   "outputs": [],
   "source": [
    "import requests\n",
    "from bs4 import BeautifulSoup"
   ]
  },
  {
   "cell_type": "code",
   "execution_count": 13,
   "metadata": {},
   "outputs": [
    {
     "name": "stdout",
     "output_type": "stream",
     "text": [
      "[花邊] 熱火中鋒與辣妻IG拍片 竟向球迷公布電話\n",
      "作者: vm6jo6456 (叛逆滴卉)\n",
      "[情報] 單季客場30勝以上全紀錄\n",
      "作者: lwy012018 (shift man)\n",
      "[情報] NBA YouTube正在重播 Bulls vs Knicks\n",
      "作者: andyspree (K U All)\n",
      "[情報] Christian Wood 對於他確診被洩漏不滿\n",
      "作者: asd831129 (追追熊)\n",
      "[情報] 尼克老闆Dolan確診武漢肺炎\n",
      "作者: monmo (Gentleman monmo)\n",
      "(本文已被刪除) [ccpz]\n",
      "[討論] 緯來重播經典賽事為啥都是近幾年的比賽？\n",
      "作者: Ayanami5566 (綾波五六)\n",
      "[花邊] 柯爾：17騎士是騎勇四年大戰中最強的\n",
      "作者: ghost069 (阿鬼)\n",
      "[花邊] TT在線求片：Netflix有哪些劇集是必看？\n",
      "作者: PttGod (PttGod)\n",
      "Re: [情報] 緯來明天要重播2016勇士vs騎士G7\n",
      "作者: qwpoas (vv)\n",
      "[情報] Bogut：人們因他們不喜歡的人生病而歡呼\n",
      "作者: Yui5 (唯控)\n",
      "[花邊] KI回憶生涯首次對位KOBE：我要和他在天\n",
      "作者: KyrieIrving1 (King of New York)\n",
      "[新聞] 韋德提選秀03梯榜眼 安東尼：他哪位？\n",
      "作者: Yui5 (唯控)\n",
      "Fw: [影片] 2006 世界盃 德國 vs. 安哥拉（司機47分）\n",
      "作者: Aotearoa (長白雲之鄉)\n",
      "Re: [新聞] 韋德提選秀03梯榜眼 安東尼：他哪位？\n",
      "作者: iammatrix ()\n",
      "Re: [新聞] 韋德提選秀03梯榜眼 安東尼：他哪位？\n",
      "作者: Uber (Uber)\n",
      "[情報] Kawhi Leonard曾拒絕詹姆斯籃球邀請\n",
      "作者: PttGod (PttGod)\n",
      "Re: [新聞] 韋德提選秀03梯榜眼 安東尼：他哪位？\n",
      "作者: ChenWay (Chenway)\n",
      "[花邊] 若非傷停數月 世界和平:38歲喬丹能場均35分\n",
      "作者: thnlkj0665 (灰色地帶)\n",
      "[公告] 板規v6.8\n",
      "[公告] 版主上任相關事項 \n",
      "作者: qazwsx879345 (Rajon Rondo)\n",
      "[情報] SEASON Schedule 賽程 March 19–20\n",
      "作者: Acetoxy (阿斯)\n",
      "[公告] 第一次被退文，可在三天後刪除退文\n",
      "作者: Vedan (味丹)\n"
     ]
    }
   ],
   "source": [
    "url = 'https://www.ptt.cc/bbs/NBA/index.html'\n",
    "r = requests.get(url)\n",
    "\n",
    "soup = BeautifulSoup(r.text, \"html5lib\")\n",
    "\n",
    "for d in soup.find_all(class_=\"title\"):\n",
    "    print(d.text.replace('\\t', '').replace('\\n', ''))\n",
    "    try:\n",
    "        r = BeautifulSoup(requests.get('https://www.ptt.cc'+d.find('a')['href']).text, \"html5lib\")\n",
    "        print('作者: ' + r.find(class_='article-meta-value').text)\n",
    "    except:\n",
    "        continue"
   ]
  },
  {
   "cell_type": "code",
   "execution_count": 26,
   "metadata": {},
   "outputs": [
    {
     "name": "stdout",
     "output_type": "stream",
     "text": [
      "作者: Price (Price) 標題:[轉錄]Lyotard 對於太陽板討論串的結論\n",
      "作者: Price (Price) 標題:[公告] 請停止一切關於本次活動的發言\n",
      "作者: Frankaze (神采風華) 標題:[轉錄]跟之前那篇比起來 我覺得這篇也應該轉過來\n",
      "作者: Frankaze (神采風華) 標題:[轉錄]再轉一篇好文來\n",
      "作者: Price (Price) 標題:[轉錄][情報] 夏洛特山貓系列\n",
      "作者: Price (Price) 標題:[轉錄]Re: [心得] 真是受不了糗爺....\n",
      "作者: Price (Price) 標題:[轉錄]總冠軍賽NO.2觀後感\n",
      "作者: AmuroNamie (原來太嗨真的會失眠^___^) 標題:[心得] Rasheed Wallace\n",
      "作者: toptree (  ) 標題:掌控球賽的男人\n",
      "作者: skchang (3EB板開板囉！) 標題:[閒聊] 說說2004季後賽名場面回顧\n",
      "作者: shineup () 標題:[心得] 其實說穿了 就是活塞的防守太可怕了\n",
      "作者: cOvi (喵~) 標題:Re: [閒聊] 說說2004季後賽名場面回顧\n",
      "作者: ykshih (￼N￼Ns) 標題:Re: [閒聊] 說說2004季後賽名場面回顧\n",
      "作者: Frankaze (神采風華) 標題:Re: [閒聊] 說說2004季後賽名場面回顧\n",
      "作者: Price (Price) 標題:[轉錄]Re: 總冠軍賽NO.3觀後感\n",
      "作者: Frankaze (神采風華) 標題:[轉錄]Re: 總冠軍賽NO.3觀後感\n",
      "作者: star1 (第一次魔術表演不算成功) 標題:Re: [轉錄]Re: 總冠軍賽NO.3觀後感\n",
      "作者: coldspring (笑笑) 標題:Re: [轉錄]Re: 總冠軍賽NO.3觀後感\n",
      "作者: airbear (地圖) 標題:Re: Kobe is frustrated...\n",
      "作者: pennykidd (andre) 標題:Re: [轉錄]Re: 總冠軍賽NO.3觀後感\n"
     ]
    }
   ],
   "source": [
    "url = 'https://www.ptt.cc/bbs/NBA/index1.html'\n",
    "r = requests.get(url)\n",
    "\n",
    "soup = BeautifulSoup(r.text, \"html5lib\")\n",
    "\n",
    "for d in soup.find_all(class_=\"title\"):\n",
    "    try:\n",
    "        r = BeautifulSoup(requests.get('https://www.ptt.cc'+d.find('a')['href']).text, \"html5lib\")\n",
    "        print('作者: ' + r.find(class_='article-meta-value').text,'標題:' + d.text.replace('\\t', '').replace('\\n', ''))\n",
    "    except:\n",
    "        continue"
   ]
  },
  {
   "cell_type": "code",
   "execution_count": null,
   "metadata": {},
   "outputs": [],
   "source": []
  }
 ],
 "metadata": {
  "kernelspec": {
   "display_name": "Python 3",
   "language": "python",
   "name": "python3"
  },
  "language_info": {
   "codemirror_mode": {
    "name": "ipython",
    "version": 3
   },
   "file_extension": ".py",
   "mimetype": "text/x-python",
   "name": "python",
   "nbconvert_exporter": "python",
   "pygments_lexer": "ipython3",
   "version": "3.7.3"
  }
 },
 "nbformat": 4,
 "nbformat_minor": 2
}
