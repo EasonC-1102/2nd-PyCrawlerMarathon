{
 "cells": [
  {
   "cell_type": "code",
   "execution_count": 1,
   "metadata": {},
   "outputs": [],
   "source": [
    "import re"
   ]
  },
  {
   "cell_type": "code",
   "execution_count": 2,
   "metadata": {},
   "outputs": [],
   "source": [
    "def RegexMatchingTest(regex, input_text):\n",
    "    pattern = re.compile(regex)\n",
    "    result = re.search(pattern, input_text)\n",
    "    if result:\n",
    "        print(\"Matched: %s\"  %  (result.group()) )\n",
    "        if result.lastindex is not None:\n",
    "            for i in range(0,result.lastindex+1):\n",
    "                print(\"group(%d): %s\" %  (i, result.group(i)))\n",
    "    else:\n",
    "        print(\"Not matched.\")"
   ]
  },
  {
   "cell_type": "markdown",
   "metadata": {},
   "source": [
    "範例1:使用「\\w」匹配字母，「\\d」匹配數字，「\\s」匹配空白"
   ]
  },
  {
   "cell_type": "code",
   "execution_count": 5,
   "metadata": {},
   "outputs": [
    {
     "name": "stdout",
     "output_type": "stream",
     "text": [
      "Matched: My phone number is 0912-345 678\n"
     ]
    }
   ],
   "source": [
    "test_strings =  \"My phone number is 0912-345 678.\"\n",
    "regex = 'My phone number is \\d\\d\\d\\d-\\d\\d\\d\\s\\d\\d\\d'\n",
    "RegexMatchingTest(regex, test_strings)"
   ]
  },
  {
   "cell_type": "code",
   "execution_count": 6,
   "metadata": {},
   "outputs": [
    {
     "name": "stdout",
     "output_type": "stream",
     "text": [
      "Matched: My car number is 687-BUY\n"
     ]
    }
   ],
   "source": [
    "test_strings = \"My car number is 687-BUY\"\n",
    "regex = 'My car number is \\d\\d\\d-\\w\\w\\w'\n",
    "RegexMatchingTest(regex, test_strings)"
   ]
  },
  {
   "cell_type": "code",
   "execution_count": 32,
   "metadata": {},
   "outputs": [
    {
     "name": "stdout",
     "output_type": "stream",
     "text": [
      "Matched: My birthday is 2020.03. 27\n"
     ]
    }
   ],
   "source": [
    "ts = \"My birthday is 2020.03. 27\"\n",
    "regex = 'My birthday is [0-9]{4}.\\d{2}.\\s\\d{2}'\n",
    "RegexMatchingTest(regex, ts)"
   ]
  },
  {
   "cell_type": "markdown",
   "metadata": {},
   "source": [
    "範例2:使用[...]匹配在[ ]裡面所列出的字元"
   ]
  },
  {
   "cell_type": "code",
   "execution_count": 17,
   "metadata": {},
   "outputs": [
    {
     "name": "stdout",
     "output_type": "stream",
     "text": [
      "Matched: I love d\n"
     ]
    }
   ],
   "source": [
    "test_string = \"I love dogs.\"\n",
    "regex = 'I love [sfafadfad]'\n",
    "RegexMatchingTest(regex, test_string)"
   ]
  },
  {
   "cell_type": "code",
   "execution_count": 24,
   "metadata": {},
   "outputs": [
    {
     "name": "stdout",
     "output_type": "stream",
     "text": [
      "Matched: I love dogs\n"
     ]
    }
   ],
   "source": [
    "test_string = \"I love dogs.\"\n",
    "regex = 'I love [sfafadfogsad]+'\n",
    "RegexMatchingTest(regex, test_string)"
   ]
  },
  {
   "cell_type": "markdown",
   "metadata": {},
   "source": [
    "範例3:分組及捕捉"
   ]
  },
  {
   "cell_type": "code",
   "execution_count": 25,
   "metadata": {},
   "outputs": [
    {
     "name": "stdout",
     "output_type": "stream",
     "text": [
      "Matched: I like baseball sport\n",
      "group(0): I like baseball sport\n",
      "group(1): baseball\n"
     ]
    }
   ],
   "source": [
    "test_string = \"I like baseball sport.\"\n",
    "regex = 'I like (hiking|baseball) sport'\n",
    "RegexMatchingTest(regex, test_string)"
   ]
  },
  {
   "cell_type": "code",
   "execution_count": 26,
   "metadata": {},
   "outputs": [
    {
     "name": "stdout",
     "output_type": "stream",
     "text": [
      "Matched: I like hiking sport\n",
      "group(0): I like hiking sport\n",
      "group(1): hiking\n"
     ]
    }
   ],
   "source": [
    "test_string = \"I like hiking sport.\"\n",
    "regex = 'I like (hiking|baseball) sport'\n",
    "RegexMatchingTest(regex, test_string)"
   ]
  },
  {
   "cell_type": "markdown",
   "metadata": {},
   "source": [
    "範例4:使用跳脫符號「\\」"
   ]
  },
  {
   "cell_type": "code",
   "execution_count": 36,
   "metadata": {},
   "outputs": [
    {
     "name": "stdout",
     "output_type": "stream",
     "text": [
      "Matched: Please call number (02)2882-5252\n"
     ]
    }
   ],
   "source": [
    "#test_string = \"Please call number (02)2882-5252.\"\n",
    "#regex = 'Please call number \\([0-9]{2}\\)[0-9]{4}-[0-9]{4}'  \n",
    "#RegexMatchingTest(regex, test_string)\n",
    "\n",
    "test_string = \"Please call number (02)2882-5252.\"\n",
    "regex = 'Please call number \\([0-9]{2}\\)\\d{4}-\\d{4}'  \n",
    "RegexMatchingTest(regex, test_string)\n"
   ]
  },
  {
   "cell_type": "markdown",
   "metadata": {},
   "source": [
    "範例5:比對中文字"
   ]
  },
  {
   "cell_type": "code",
   "execution_count": 33,
   "metadata": {},
   "outputs": [
    {
     "name": "stdout",
     "output_type": "stream",
     "text": [
      "Matched: 累狗\n"
     ]
    }
   ],
   "source": [
    "test_string = \"Here are 累狗 and letsgo\"  \n",
    "regex = '[\\u4e00-\\u9fa5]+'                  \n",
    "RegexMatchingTest(regex, test_string)"
   ]
  },
  {
   "cell_type": "markdown",
   "metadata": {},
   "source": [
    "# --------------------------"
   ]
  },
  {
   "cell_type": "code",
   "execution_count": 42,
   "metadata": {},
   "outputs": [
    {
     "name": "stdout",
     "output_type": "stream",
     "text": [
      "Matched: Google IP address is 216.58.200.227\n",
      "Not matched.\n"
     ]
    }
   ],
   "source": [
    "ts = \"Google IP address is 216.58.200.227\"\n",
    "regex = 'Google IP address is [0-9]{3}.[0-9]{2}.[0-9]{3}.[0-9]{3}'\n",
    "RegexMatchingTest(regex,ts)\n",
    "ts1 = \"Google IP address is 444.555.666.777\"\n",
    "regex = 'Google IP address is [0-2]{1}[0-9]{2}.[0-2]{1}[0-9]{2}.[0-2]{1}[0-9]{2}.[0-2]{1}[0-9]{2}'\n",
    "RegexMatchingTest(regex,ts1)"
   ]
  },
  {
   "cell_type": "code",
   "execution_count": 49,
   "metadata": {},
   "outputs": [
    {
     "name": "stdout",
     "output_type": "stream",
     "text": [
      "Matched: 216.58.200.227\n",
      "group(0): 216.58.200.227\n",
      "group(1): 216\n",
      "group(2): 58\n",
      "group(3): 200\n",
      "group(4): 227\n",
      "Not matched.\n"
     ]
    }
   ],
   "source": [
    "ts = \"Google IP address is 216.58.200.227\"\n",
    "ts1 = \"Google IP address is 444.555.666.777\"\n",
    "regex = '([0-255]\\d{1,3}).([0-255]\\d{1,3}).([0-255]\\d{1,3}).([0-255]\\d{1,3})'\n",
    "RegexMatchingTest(regex,ts)\n",
    "RegexMatchingTest(regex,ts1)"
   ]
  },
  {
   "cell_type": "code",
   "execution_count": 59,
   "metadata": {},
   "outputs": [
    {
     "name": "stdout",
     "output_type": "stream",
     "text": [
      "Matched: https://movies.yahoo.com.tw/movietime_result.html/id=9467\n"
     ]
    }
   ],
   "source": [
    "html_a_tag = \"<a href=https://movies.yahoo.com.tw/movietime_result.html/id=9467> 時刻表 </a>\"\n",
    "regex = 'https://movies.yahoo.com.tw/movietime_result.html/id=\\d+'\n",
    "RegexMatchingTest(regex, html_a_tag)"
   ]
  },
  {
   "cell_type": "code",
   "execution_count": null,
   "metadata": {},
   "outputs": [],
   "source": []
  }
 ],
 "metadata": {
  "kernelspec": {
   "display_name": "Python 3",
   "language": "python",
   "name": "python3"
  },
  "language_info": {
   "codemirror_mode": {
    "name": "ipython",
    "version": 3
   },
   "file_extension": ".py",
   "mimetype": "text/x-python",
   "name": "python",
   "nbconvert_exporter": "python",
   "pygments_lexer": "ipython3",
   "version": "3.7.3"
  }
 },
 "nbformat": 4,
 "nbformat_minor": 2
}
