{
 "cells": [
  {
   "cell_type": "code",
   "execution_count": 1,
   "metadata": {},
   "outputs": [],
   "source": [
    "import requests\n",
    "import os\n",
    "\n",
    "from bs4 import BeautifulSoup\n",
    "from PIL import Image"
   ]
  },
  {
   "cell_type": "code",
   "execution_count": 3,
   "metadata": {},
   "outputs": [],
   "source": [
    "url = 'https://www.ptt.cc/bbs/Beauty/M.1574854555.A.E5C.html'\n",
    "resp = requests.get(url,cookies = {'over18':'1'})\n",
    "soup = BeautifulSoup(resp.text)"
   ]
  },
  {
   "cell_type": "markdown",
   "metadata": {},
   "source": [
    "/Users/jordan/Downloads "
   ]
  },
  {
   "cell_type": "code",
   "execution_count": 5,
   "metadata": {},
   "outputs": [
    {
     "name": "stdout",
     "output_type": "stream",
     "text": [
      "Save image /Users/jordan/Downloads/Yvqa9MC.jpg.jpeg\n",
      "Save image /Users/jordan/Downloads/4aqPUFf.jpg.jpeg\n",
      "Save image /Users/jordan/Downloads/hG9seBk.jpg.jpeg\n",
      "Save image /Users/jordan/Downloads/2M5b3z4.jpg.jpeg\n",
      "Save image /Users/jordan/Downloads/ncyh1pY.jpg.jpeg\n",
      "Save image /Users/jordan/Downloads/Z8L1vqU.jpg.jpeg\n",
      "Save image /Users/jordan/Downloads/tJyl8gf.jpg.jpeg\n",
      "Save image /Users/jordan/Downloads/hwry1vC.jpg.jpeg\n",
      "Save image /Users/jordan/Downloads/WaPmVsl.jpg.jpeg\n",
      "Save image /Users/jordan/Downloads/u3a9fBO.jpg.jpeg\n"
     ]
    }
   ],
   "source": [
    "output_dir = '/Users/jordan/Downloads'\n",
    "\n",
    "if not os.path.exists(output_dir):\n",
    "    os.makedirs(output_dir)\n",
    "image_tags = soup.find(id='main-content').findChildren('a', recursive=False)\n",
    "for img_tag in image_tags:\n",
    "    if 'imgur' not in img_tag['href']:\n",
    "        continue\n",
    "    img_id = img_tag['href'].split('/')[-1]\n",
    "    img_url = 'https://i.imgur.com/{}.jpg'.format(img_id)\n",
    "    with requests.get(img_url, stream = True) as r:\n",
    "        r.raise_for_status()\n",
    "        img = Image.open(r.raw)\n",
    "        img_savename = '{outdir}/{img_id}.{img_ext}'.format(\n",
    "            outdir=output_dir, img_id=img_id, img_ext=img.format.lower())\n",
    "        img.save(img_savename)\n",
    "        print('Save image {}'.format(img_savename))    "
   ]
  },
  {
   "cell_type": "code",
   "execution_count": 8,
   "metadata": {},
   "outputs": [],
   "source": [
    "url1 = 'https://www.ptt.cc/bbs/Beauty/M.1584536653.A.50A.html'\n",
    "resp = requests.get(url1,cookies = {'over18':'1'})\n",
    "soup = BeautifulSoup(resp.text)"
   ]
  },
  {
   "cell_type": "code",
   "execution_count": 9,
   "metadata": {},
   "outputs": [
    {
     "name": "stdout",
     "output_type": "stream",
     "text": [
      "Save image /Users/jordan/Downloads/1byOckF.jpg.jpeg\n",
      "Save image /Users/jordan/Downloads/CvASW0z.jpg.jpeg\n",
      "Save image /Users/jordan/Downloads/7OXa1G4.jpg.jpeg\n",
      "Save image /Users/jordan/Downloads/bVwnxtY.jpg.jpeg\n",
      "Save image /Users/jordan/Downloads/3VfiwL2.jpg.jpeg\n",
      "Save image /Users/jordan/Downloads/PcctQQB.jpg.jpeg\n",
      "Save image /Users/jordan/Downloads/vwLxEfF.jpg.jpeg\n",
      "Save image /Users/jordan/Downloads/r5TGMz7.jpg.jpeg\n",
      "Save image /Users/jordan/Downloads/QO2Tjxv.jpg.jpeg\n",
      "Save image /Users/jordan/Downloads/yH9NmpI.jpg.jpeg\n",
      "Save image /Users/jordan/Downloads/J090yul.jpg.jpeg\n",
      "Save image /Users/jordan/Downloads/6dcf4uO.jpg.jpeg\n",
      "Save image /Users/jordan/Downloads/A9kfXFQ.jpg.jpeg\n",
      "Save image /Users/jordan/Downloads/bOii1bu.jpg.jpeg\n",
      "Save image /Users/jordan/Downloads/2UZ14qo.jpg.jpeg\n"
     ]
    }
   ],
   "source": [
    "output_dir = '/Users/jordan/Downloads'\n",
    "\n",
    "if not os.path.exists(output_dir):\n",
    "    os.makedirs(output_dir)\n",
    "image_tags = soup.find(id='main-content').findChildren('a', recursive=False)\n",
    "for img_tag in image_tags:\n",
    "    if 'imgur' not in img_tag['href']:\n",
    "        continue\n",
    "    img_id = img_tag['href'].split('/')[-1]\n",
    "    img_url = 'https://i.imgur.com/{}.jpg'.format(img_id)\n",
    "    with requests.get(img_url, stream = True) as r:\n",
    "        r.raise_for_status()\n",
    "        img = Image.open(r.raw)\n",
    "        img_savename = '{outdir}/{img_id}.{img_ext}'.format(\n",
    "            outdir=output_dir, img_id=img_id, img_ext=img.format.lower())\n",
    "        img.save(img_savename)\n",
    "        print('Save image {}'.format(img_savename))    "
   ]
  },
  {
   "cell_type": "code",
   "execution_count": null,
   "metadata": {},
   "outputs": [],
   "source": []
  }
 ],
 "metadata": {
  "kernelspec": {
   "display_name": "Python 3",
   "language": "python",
   "name": "python3"
  },
  "language_info": {
   "codemirror_mode": {
    "name": "ipython",
    "version": 3
   },
   "file_extension": ".py",
   "mimetype": "text/x-python",
   "name": "python",
   "nbconvert_exporter": "python",
   "pygments_lexer": "ipython3",
   "version": "3.7.3"
  }
 },
 "nbformat": 4,
 "nbformat_minor": 2
}
